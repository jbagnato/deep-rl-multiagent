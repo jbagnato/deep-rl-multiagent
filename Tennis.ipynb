{
 "cells": [
  {
   "cell_type": "markdown",
   "metadata": {},
   "source": [
    "# Collaboration and Competition\n",
    "\n",
    "---\n",
    "\n",
    "In this notebook, you will learn how to use the Unity ML-Agents environment for the third project of the [Deep Reinforcement Learning Nanodegree](https://www.udacity.com/course/deep-reinforcement-learning-nanodegree--nd893) program.\n",
    "\n",
    "### 1. Start the Environment\n",
    "\n",
    "We begin by importing the necessary packages.  If the code cell below returns an error, please revisit the project instructions to double-check that you have installed [Unity ML-Agents](https://github.com/Unity-Technologies/ml-agents/blob/master/docs/Installation.md) and [NumPy](http://www.numpy.org/)."
   ]
  },
  {
   "cell_type": "code",
   "execution_count": 1,
   "metadata": {
    "ExecuteTime": {
     "end_time": "2021-08-03T15:57:14.924864Z",
     "start_time": "2021-08-03T15:57:10.100959Z"
    }
   },
   "outputs": [],
   "source": [
    "from unityagents import UnityEnvironment\n",
    "import numpy as np"
   ]
  },
  {
   "cell_type": "markdown",
   "metadata": {},
   "source": [
    "Next, we will start the environment!  **_Before running the code cell below_**, change the `file_name` parameter to match the location of the Unity environment that you downloaded.\n",
    "\n",
    "- **Mac**: `\"path/to/Tennis.app\"`\n",
    "- **Windows** (x86): `\"path/to/Tennis_Windows_x86/Tennis.exe\"`\n",
    "- **Windows** (x86_64): `\"path/to/Tennis_Windows_x86_64/Tennis.exe\"`\n",
    "- **Linux** (x86): `\"path/to/Tennis_Linux/Tennis.x86\"`\n",
    "- **Linux** (x86_64): `\"path/to/Tennis_Linux/Tennis.x86_64\"`\n",
    "- **Linux** (x86, headless): `\"path/to/Tennis_Linux_NoVis/Tennis.x86\"`\n",
    "- **Linux** (x86_64, headless): `\"path/to/Tennis_Linux_NoVis/Tennis.x86_64\"`\n",
    "\n",
    "For instance, if you are using a Mac, then you downloaded `Tennis.app`.  If this file is in the same folder as the notebook, then the line below should appear as follows:\n",
    "```\n",
    "env = UnityEnvironment(file_name=\"Tennis.app\")\n",
    "```"
   ]
  },
  {
   "cell_type": "code",
   "execution_count": 2,
   "metadata": {
    "ExecuteTime": {
     "end_time": "2021-08-03T15:57:31.638692Z",
     "start_time": "2021-08-03T15:57:25.329665Z"
    }
   },
   "outputs": [
    {
     "name": "stderr",
     "output_type": "stream",
     "text": [
      "INFO:unityagents:\n",
      "'Academy' started successfully!\n",
      "Unity Academy name: Academy\n",
      "        Number of Brains: 1\n",
      "        Number of External Brains : 1\n",
      "        Lesson number : 0\n",
      "        Reset Parameters :\n",
      "\t\t\n",
      "Unity brain name: TennisBrain\n",
      "        Number of Visual Observations (per agent): 0\n",
      "        Vector Observation space type: continuous\n",
      "        Vector Observation space size (per agent): 8\n",
      "        Number of stacked Vector Observation: 3\n",
      "        Vector Action space type: continuous\n",
      "        Vector Action space size (per agent): 2\n",
      "        Vector Action descriptions: , \n"
     ]
    }
   ],
   "source": [
    "env = UnityEnvironment(file_name=\"Tennis.app\")"
   ]
  },
  {
   "cell_type": "markdown",
   "metadata": {},
   "source": [
    "Environments contain **_brains_** which are responsible for deciding the actions of their associated agents. Here we check for the first brain available, and set it as the default brain we will be controlling from Python."
   ]
  },
  {
   "cell_type": "code",
   "execution_count": 3,
   "metadata": {
    "ExecuteTime": {
     "end_time": "2021-08-03T15:57:31.648312Z",
     "start_time": "2021-08-03T15:57:31.644184Z"
    }
   },
   "outputs": [],
   "source": [
    "# get the default brain\n",
    "brain_name = env.brain_names[0]\n",
    "brain = env.brains[brain_name]"
   ]
  },
  {
   "cell_type": "markdown",
   "metadata": {},
   "source": [
    "### 2. Examine the State and Action Spaces\n",
    "\n",
    "In this environment, two agents control rackets to bounce a ball over a net. If an agent hits the ball over the net, it receives a reward of +0.1.  If an agent lets a ball hit the ground or hits the ball out of bounds, it receives a reward of -0.01.  Thus, the goal of each agent is to keep the ball in play.\n",
    "\n",
    "The observation space consists of 8 variables corresponding to the position and velocity of the ball and racket. Two continuous actions are available, corresponding to movement toward (or away from) the net, and jumping. \n",
    "\n",
    "Run the code cell below to print some information about the environment."
   ]
  },
  {
   "cell_type": "code",
   "execution_count": 4,
   "metadata": {
    "ExecuteTime": {
     "end_time": "2021-08-03T15:57:36.290857Z",
     "start_time": "2021-08-03T15:57:35.715709Z"
    }
   },
   "outputs": [
    {
     "name": "stdout",
     "output_type": "stream",
     "text": [
      "Number of agents: 2\n",
      "Size of each action: 2\n",
      "There are 2 agents. Each observes a state with length: 24\n",
      "The state for the first agent looks like: [ 0.          0.          0.          0.          0.          0.\n",
      "  0.          0.          0.          0.          0.          0.\n",
      "  0.          0.          0.          0.         -6.65278625 -1.5\n",
      " -0.          0.          6.83172083  6.         -0.          0.        ]\n"
     ]
    }
   ],
   "source": [
    "# reset the environment\n",
    "env_info = env.reset(train_mode=True)[brain_name]\n",
    "\n",
    "# number of agents \n",
    "num_agents = len(env_info.agents)\n",
    "print('Number of agents:', num_agents)\n",
    "\n",
    "# size of each action\n",
    "action_size = brain.vector_action_space_size\n",
    "print('Size of each action:', action_size)\n",
    "\n",
    "# examine the state space \n",
    "states = env_info.vector_observations\n",
    "state_size = states.shape[1]\n",
    "print('There are {} agents. Each observes a state with length: {}'.format(states.shape[0], state_size))\n",
    "print('The state for the first agent looks like:', states[0])"
   ]
  },
  {
   "cell_type": "code",
   "execution_count": null,
   "metadata": {},
   "outputs": [],
   "source": []
  },
  {
   "cell_type": "markdown",
   "metadata": {},
   "source": [
    "### 3. Take Random Actions in the Environment\n",
    "\n",
    "In the next code cell, you will learn how to use the Python API to control the agents and receive feedback from the environment.\n",
    "\n",
    "Once this cell is executed, you will watch the agents' performance, if they select actions at random with each time step.  A window should pop up that allows you to observe the agents.\n",
    "\n",
    "Of course, as part of the project, you'll have to change the code so that the agents are able to use their experiences to gradually choose better actions when interacting with the environment!"
   ]
  },
  {
   "cell_type": "code",
   "execution_count": 89,
   "metadata": {},
   "outputs": [
    {
     "name": "stdout",
     "output_type": "stream",
     "text": [
      "Score (max over agents) from episode 1: 0.09000000357627869\n",
      "Score (max over agents) from episode 2: 0.0\n",
      "Score (max over agents) from episode 3: 0.0\n",
      "Score (max over agents) from episode 4: 0.09000000357627869\n",
      "Score (max over agents) from episode 5: 0.0\n"
     ]
    }
   ],
   "source": [
    "for i in range(1, 6):                                      # play game for 5 episodes\n",
    "    env_info = env.reset(train_mode=False)[brain_name]     # reset the environment    \n",
    "    states = env_info.vector_observations                  # get the current state (for each agent)\n",
    "    scores = np.zeros(num_agents)                          # initialize the score (for each agent)\n",
    "    while True:\n",
    "        actions = np.random.randn(num_agents, action_size) # select an action (for each agent)\n",
    "        actions = [[0,0],[0,0]] #np.clip(actions, -1, 1)                  # all actions between -1 and 1\n",
    "        env_info = env.step(actions)[brain_name]           # send all actions to tne environment\n",
    "        next_states = env_info.vector_observations         # get next state (for each agent)\n",
    "        rewards = env_info.rewards                         # get reward (for each agent)\n",
    "        dones = env_info.local_done                        # see if episode finished\n",
    "        scores += env_info.rewards                         # update the score (for each agent)\n",
    "        states = next_states                               # roll over states to next time step\n",
    "        if np.any(dones):                                  # exit loop if episode finished\n",
    "            break\n",
    "    print('Score (max over agents) from episode {}: {}'.format(i, np.max(scores)))"
   ]
  },
  {
   "cell_type": "markdown",
   "metadata": {},
   "source": [
    "When finished, you can close the environment."
   ]
  },
  {
   "cell_type": "code",
   "execution_count": 6,
   "metadata": {},
   "outputs": [],
   "source": [
    "#env.close()"
   ]
  },
  {
   "cell_type": "markdown",
   "metadata": {},
   "source": [
    "### 4. It's Your Turn!\n",
    "\n",
    "Now it's your turn to train your own agent to solve the environment!  When training the environment, set `train_mode=True`, so that the line for resetting the environment looks like the following:\n",
    "```python\n",
    "env_info = env.reset(train_mode=True)[brain_name]\n",
    "```"
   ]
  },
  {
   "cell_type": "code",
   "execution_count": 5,
   "metadata": {
    "ExecuteTime": {
     "end_time": "2021-08-03T15:58:03.681425Z",
     "start_time": "2021-08-03T15:58:00.582441Z"
    }
   },
   "outputs": [],
   "source": [
    "%matplotlib inline\n",
    "import matplotlib.pyplot as plt\n",
    "import time, os\n",
    "\n",
    "import numpy as np\n",
    "import random\n",
    "import copy\n",
    "from collections import namedtuple, deque\n",
    "\n",
    "import torch\n",
    "import torch.nn as nn\n",
    "import torch.nn.functional as F\n",
    "import torch.optim as optim\n",
    "\n",
    "LR_ACTOR = 1e-4         # learning rate of the actor\n",
    "LR_CRITIC = 3e-4        # learning rate of the critic\n",
    "WEIGHT_DECAY = 0        # L2 weight decay 0\n",
    "\n",
    "NOISE_REDUCTION_RATE = 0.99\n",
    "EPISODES_BEFORE_LEARNING = 400\n",
    "NOISE_START=1.0\n",
    "NOISE_END=0.1\n",
    "\n",
    "BUFFER_SIZE = int(1e5)  # replay buffer size\n",
    "BATCH_SIZE = 200        # minibatch size\n",
    "\n",
    "GAMMA = 0.99            # discount factor\n",
    "TAU = 1e-3              # for soft update of target parameters (1)\n",
    "\n",
    "# Neural Network hidden layers for actor and critic\n",
    "NN_ACTOR_HIDDEN_1 = 128\n",
    "NN_ACTOR_HIDDEN_2 = 100\n",
    "NN_CRITIC_HIDDEN_1 = 128\n",
    "NN_CRITIC_HIDDEN_2 = 96\n",
    "\n",
    "device = torch.device(\"cuda:0\" if torch.cuda.is_available() else \"cpu\")\n",
    "\n",
    "#global variable to share the critic on both agents\n",
    "shared_critic_local = None\n",
    "shared_critic_target = None\n",
    "shared_critic_optim = None"
   ]
  },
  {
   "cell_type": "code",
   "execution_count": 6,
   "metadata": {
    "ExecuteTime": {
     "end_time": "2021-08-03T15:58:16.191161Z",
     "start_time": "2021-08-03T15:58:16.169990Z"
    }
   },
   "outputs": [],
   "source": [
    "def hidden_init(layer):\n",
    "    fan_in = layer.weight.data.size()[0]\n",
    "    lim = 1. / np.sqrt(fan_in)\n",
    "    return (-lim, lim)\n",
    "\n",
    "class Actor(nn.Module):\n",
    "    \"\"\"Actor (Policy) Model.\"\"\"\n",
    "\n",
    "    def __init__(self, state_size, action_size, seed=0, fc1_units=256, fc2_units=128):\n",
    "        \"\"\"Initialize parameters and build model.\n",
    "        Params\n",
    "        ======\n",
    "            state_size (int): Dimension of each state\n",
    "            action_size (int): Dimension of each action\n",
    "            seed (int): Random seed\n",
    "            fc1_units (int): Number of nodes in first hidden layer\n",
    "            fc2_units (int): Number of nodes in second hidden layer\n",
    "        \"\"\"\n",
    "        super(Actor, self).__init__()\n",
    "        self.seed = torch.manual_seed(seed)\n",
    "        self.fc1 = nn.Linear(state_size, fc1_units)\n",
    "        self.fc2 = nn.Linear(fc1_units, fc2_units)\n",
    "        self.fc3 = nn.Linear(fc2_units, action_size)\n",
    "        self.bn1 = nn.BatchNorm1d(fc1_units)\n",
    "        self.bn2 = nn.BatchNorm1d(fc2_units)\n",
    "        self.reset_parameters()\n",
    "\n",
    "    def reset_parameters(self):\n",
    "        self.fc1.weight.data.uniform_(*hidden_init(self.fc1))\n",
    "        self.fc2.weight.data.uniform_(*hidden_init(self.fc2))\n",
    "        self.fc3.weight.data.uniform_(-3e-3, 3e-3)\n",
    "\n",
    "    def forward(self, state):\n",
    "        \"\"\"Build an actor (policy) network that maps states -> actions.\"\"\"\n",
    "        if state.dim() == 1:\n",
    "            state = torch.unsqueeze(state,0)\n",
    "        x = F.relu(self.fc1(state))\n",
    "        x = self.bn1(x)\n",
    "        x = F.relu(self.fc2(x))\n",
    "        return torch.tanh(self.fc3(x))\n",
    "\n",
    "class Critic(nn.Module):\n",
    "    \"\"\"Critic (Value) Model.\"\"\"\n",
    "\n",
    "    def __init__(self, full_state_size, actions_size, seed=0, fcs1_units=256, fc2_units=128):\n",
    "        \"\"\"Initialize parameters and build model.\n",
    "        Params\n",
    "        ======\n",
    "            state_size (int): Dimension of each state\n",
    "            action_size (int): Dimension of each action\n",
    "            seed (int): Random seed\n",
    "            fcs1_units (int): Number of nodes in the first hidden layer\n",
    "            fc2_units (int): Number of nodes in the second hidden layer\n",
    "        \"\"\"\n",
    "        super(Critic, self).__init__()\n",
    "        self.seed = torch.manual_seed(seed)\n",
    "        self.fcs1 = nn.Linear(full_state_size, fcs1_units)\n",
    "        self.fc2 = nn.Linear(fcs1_units+actions_size, fc2_units)\n",
    "        self.fc3 = nn.Linear(fc2_units, 1)\n",
    "        self.bn1 = nn.BatchNorm1d(fcs1_units)\n",
    "        self.bn2 = nn.BatchNorm1d(fc2_units)\n",
    "        self.reset_parameters()\n",
    "\n",
    "    def reset_parameters(self):\n",
    "        self.fcs1.weight.data.uniform_(*hidden_init(self.fcs1))\n",
    "        self.fc2.weight.data.uniform_(*hidden_init(self.fc2))\n",
    "        self.fc3.weight.data.uniform_(-3e-3, 3e-3)\n",
    "\n",
    "    def forward(self, state, action):\n",
    "        \"\"\"Build a critic (value) network that maps (state, action) pairs -> Q-values.\"\"\"\n",
    "        xs = F.relu(self.fcs1(state))\n",
    "        xs = self.bn1(xs)\n",
    "        x = torch.cat((xs, action), dim=1)\n",
    "        x = F.relu(self.fc2(x))\n",
    "        return self.fc3(x)"
   ]
  },
  {
   "cell_type": "code",
   "execution_count": 7,
   "metadata": {
    "ExecuteTime": {
     "end_time": "2021-08-03T15:58:19.889241Z",
     "start_time": "2021-08-03T15:58:19.849275Z"
    }
   },
   "outputs": [],
   "source": [
    "class Agent():\n",
    "    \"\"\"Interacts with and learns from the environment.\"\"\"\n",
    "    \n",
    "    def __init__(self, state_size=24, action_size=2, num_agents=2, random_seed=1, fc1_units=128, fc2_units=64,critic_h1=128,critic_h2=64):\n",
    "        \"\"\"Initialize an Agent object.\n",
    "        \n",
    "        Params\n",
    "        ======\n",
    "            state_size (int): dimension of each state\n",
    "            action_size (int): dimension of each action\n",
    "            random_seed (int): random seed\n",
    "        \"\"\"\n",
    "        self.state_size = state_size\n",
    "        self.action_size = action_size\n",
    "        self.seed = random.seed(random_seed)\n",
    "\n",
    "        # Actor Network (w/ Target Network)\n",
    "        self.actor_local = Actor(state_size, action_size, random_seed,fc1_units=fc1_units, fc2_units=fc2_units).to(device)\n",
    "        self.actor_target = Actor(state_size, action_size, random_seed,fc1_units=fc1_units, fc2_units=fc2_units).to(device)\n",
    "        self.actor_optimizer = optim.Adam(self.actor_local.parameters(), lr=LR_ACTOR)\n",
    "\n",
    "        global shared_critic_local, shared_critic_target, shared_critic_optim\n",
    "        \n",
    "        # Critic Network (w/ Target Network) shared by all agents\n",
    "        if shared_critic_local is None:\n",
    "            #print('shared_critic_local is initialized')\n",
    "            self.critic_local = Critic(state_size*num_agents, action_size*num_agents, random_seed,fcs1_units=critic_h1, fc2_units=critic_h2).to(device)\n",
    "            self.critic_target = Critic(state_size*num_agents, action_size*num_agents, random_seed,fcs1_units=critic_h1, fc2_units=critic_h2).to(device)\n",
    "            self.critic_optimizer = optim.Adam(self.critic_local.parameters(), lr=LR_CRITIC, weight_decay=WEIGHT_DECAY)\n",
    "            shared_critic_local = self.critic_local\n",
    "            shared_critic_target = self.critic_target\n",
    "            shared_critic_optim = self.critic_optimizer\n",
    "        else:\n",
    "            #print('reuse critic on this actor')\n",
    "            self.critic_local = shared_critic_local\n",
    "            self.critic_target = shared_critic_target\n",
    "            self.critic_optimizer = shared_critic_optim\n",
    "\n",
    "        self.soft_update(self.critic_local, self.critic_target, TAU)\n",
    "        self.soft_update(self.actor_local, self.actor_target, TAU)\n",
    "        \n",
    "        # Noise process\n",
    "        self.noise = OUNoise(action_size, random_seed)\n",
    "        self.noise_reduction_ratio = NOISE_START\n",
    "\n",
    "        self.step_count = 0\n",
    "\n",
    "    def act(self, state, i_episode, add_noise=True):\n",
    "        \"\"\"Returns actions for given state as per current policy.\"\"\"\n",
    "        state = torch.from_numpy(state).float().to(device)\n",
    "        self.actor_local.eval()\n",
    "        with torch.no_grad():\n",
    "            action = self.actor_local(state).cpu().data.numpy()\n",
    "        self.actor_local.train()\n",
    "        \n",
    "        if add_noise:\n",
    "            if i_episode > EPISODES_BEFORE_LEARNING and self.noise_reduction_ratio > NOISE_END:\n",
    "                self.noise_reduction_ratio = NOISE_REDUCTION_RATE**(i_episode - EPISODES_BEFORE_LEARNING)\n",
    "            action += self.noise_reduction_ratio * self.add_noise2()\n",
    "        return np.clip(action, -1, 1)\n",
    "\n",
    "    def add_noise2(self):\n",
    "        noise = 0.5*np.random.standard_normal(self.action_size)\n",
    "        return noise\n",
    "    \n",
    "    def reset(self):\n",
    "        self.noise.reset()\n",
    "\n",
    "    def learn(self, experiences, gamma):\n",
    "        \"\"\"Update policy and value parameters using given batch of experience tuples.\n",
    "        Q_targets = r + γ * critic_target(next_state, actor_target(next_state))\n",
    "        where:\n",
    "            actor_target(state) -> action\n",
    "            critic_target(state, action) -> Q-value\n",
    "        Params\n",
    "        ======\n",
    "            experiences (Tuple[torch.Tensor]): tuple of (s, a, r, s', done) tuples \n",
    "            gamma (float): discount factor\n",
    "        \"\"\"\n",
    "        full_states, actions, actor_local_actions, actor_target_actions, agent_state, agent_action, agent_reward, agent_done, next_states, next_full_states = experiences\n",
    "\n",
    "        # ---------------------------- update critic ---------------------------- #\n",
    "        # Get predicted next-state actions and Q values from target models\n",
    "        Q_targets_next = self.critic_target(next_full_states, actor_target_actions)\n",
    "        # Compute Q targets for current states (y_i)\n",
    "        Q_targets = agent_reward + (gamma * Q_targets_next * (1 - agent_done))\n",
    "        # Compute critic loss\n",
    "        Q_expected = self.critic_local(full_states, actions)\n",
    "        critic_loss = F.mse_loss(Q_expected, Q_targets)\n",
    "        # Minimize the loss\n",
    "        self.critic_optimizer.zero_grad()\n",
    "        critic_loss.backward()\n",
    "        self.critic_optimizer.step()\n",
    "\n",
    "        # ---------------------------- update actor ---------------------------- #\n",
    "        # Compute actor loss\n",
    "        actor_loss = -self.critic_local(full_states, actor_local_actions).mean()\n",
    "        # Minimize the loss\n",
    "        self.actor_optimizer.zero_grad()\n",
    "        actor_loss.backward()\n",
    "        self.actor_optimizer.step()\n",
    "\n",
    "    def hard_copy_weights(self, target, source):\n",
    "        \"\"\" copy weights from source to target network (part of initialization)\"\"\"\n",
    "        for target_param, param in zip(target.parameters(), source.parameters()):\n",
    "            target_param.data.copy_(param.data)\n",
    "            \n",
    "    def soft_update(self, local_model, target_model, tau):\n",
    "        \"\"\"Soft update model parameters.\n",
    "        θ_target = τ*θ_local + (1 - τ)*θ_target\n",
    "        Params\n",
    "        ======\n",
    "            local_model: PyTorch model (weights will be copied from)\n",
    "            target_model: PyTorch model (weights will be copied to)\n",
    "            tau (float): interpolation parameter \n",
    "        \"\"\"\n",
    "        for target_param, local_param in zip(target_model.parameters(), local_model.parameters()):\n",
    "            target_param.data.copy_(tau*local_param.data + (1.0-tau)*target_param.data)\n",
    "\n",
    "class OUNoise:\n",
    "    \"\"\"Ornstein-Uhlenbeck process.\"\"\"\n",
    "\n",
    "    def __init__(self, size, seed, mu=0., theta=0.15, sigma=0.1):\n",
    "        \"\"\"Initialize parameters and noise process.\"\"\"\n",
    "        self.mu = mu * np.ones(size)\n",
    "        self.theta = theta\n",
    "        self.sigma = sigma\n",
    "        self.seed = random.seed(seed)\n",
    "        self.reset()\n",
    "        self.size = size\n",
    "\n",
    "    def reset(self):\n",
    "        \"\"\"Reset the internal state (= noise) to mean (mu).\"\"\"\n",
    "        self.state = copy.copy(self.mu)\n",
    "\n",
    "    def sample(self):\n",
    "        \"\"\"Update internal state and return it as a noise sample.\"\"\"\n",
    "        x = self.state\n",
    "        dx = self.theta * (self.mu - x) + self.sigma * np.random.standard_normal(self.size)\n",
    "        self.state = x + dx\n",
    "        return self.state"
   ]
  },
  {
   "cell_type": "code",
   "execution_count": 11,
   "metadata": {
    "ExecuteTime": {
     "end_time": "2021-08-03T16:00:11.542305Z",
     "start_time": "2021-08-03T16:00:11.467006Z"
    }
   },
   "outputs": [],
   "source": [
    "class MADDPG():\n",
    "    \n",
    "    def __init__(self, state_size=24, action_size=2, num_agents=2, random_seed=1, fc1_units=128, fc2_units=64,critic_h1=128,critic_h2=64):\n",
    "        \n",
    "        self.state_size = state_size\n",
    "        self.action_size = action_size\n",
    "        self.random_seed = random.seed(random_seed)\n",
    "        \n",
    "        # creating agents and store them into agents list\n",
    "        self.agents = [Agent(state_size, action_size, num_agents, random_seed, fc1_units=fc1_units, fc2_units=fc2_units,critic_h1=critic_h1,critic_h2=critic_h2) for i in range(num_agents)]\n",
    "        \n",
    "        # Replay memory\n",
    "        self.memory = ReplayBuffer(BUFFER_SIZE, BATCH_SIZE, random_seed)\n",
    "        self.step_count = 0\n",
    "        \n",
    "    # reset each agent's noise\n",
    "    def reset(self):\n",
    "        for agent in self.agents:\n",
    "            agent.reset()\n",
    "            \n",
    "    # state: state array for all agents [agent_no, state_size]\n",
    "    # output: actions of all agents [agent_no, action of an agent]\n",
    "    def act(self, state, i_episode, add_noise=True):\n",
    "        actions = []\n",
    "        for agent_state, agent in zip(state, self.agents):\n",
    "            action = agent.act(agent_state, i_episode, add_noise)\n",
    "            action = np.reshape(action, newshape=(-1))\n",
    "            actions.append(action)\n",
    "        actions = np.stack(actions)\n",
    "        return actions\n",
    "        \n",
    "    \n",
    "    def step(self, i_episode, state, action, reward, next_state, done):\n",
    "        full_state = np.reshape(state, newshape=(-1))\n",
    "        next_full_state = np.reshape(next_state, newshape=(-1))\n",
    "        \n",
    "        self.memory.add(state, full_state, action, reward, next_state, next_full_state, done)\n",
    "        \n",
    "        self.step_count = self.step_count + 1\n",
    "        \n",
    "        if len(self.memory) > BATCH_SIZE and i_episode > EPISODES_BEFORE_LEARNING:\n",
    "\n",
    "            for a_cnt in range(3):\n",
    "                i_agent = 0\n",
    "                for agent in self.agents:\n",
    "                    i_agent +=1\n",
    "                    if ((self.step_count +i_agent) % 2) != 0:\n",
    "                        experiences = self.memory.sample()\n",
    "                        self.learn(experiences, agent, GAMMA)\n",
    "\n",
    "                for agent in self.agents:\n",
    "                    i_agent +=1\n",
    "                    if ((self.step_count +i_agent) % 2) != 0:\n",
    "                        agent.soft_update(agent.actor_local, agent.actor_target, TAU)\n",
    "                    agent.soft_update(agent.critic_local, agent.critic_target, TAU)\n",
    "\n",
    "    # execute learning on an agent    \n",
    "    def learn(self, experiences, agent, GAMMA):\n",
    "        # batch dataset for training\n",
    "        states, full_states, actions, rewards, next_states, next_full_states, dones = experiences\n",
    "                \n",
    "        # compute NO-NOISE action using target actor and current state - [batch_size, # of agent, action size]\n",
    "        # this will be used as input on critic local network\n",
    "        actor_target_actions = torch.zeros(actions.shape, dtype=torch.float, device=device)\n",
    "        for agent_idx, agent_i in enumerate(self.agents):\n",
    "            if agent == agent_i:\n",
    "                agent_id = agent_idx\n",
    "            agent_i_current_state = states[:,agent_idx]\n",
    "            actor_target_actions[:,agent_idx,:] = agent_i.actor_target.forward(agent_i_current_state)\n",
    "        actor_target_actions = actor_target_actions.view(BATCH_SIZE, -1)\n",
    "        \n",
    "        # agent specific state, action, reward, done\n",
    "        agent_state = states[:,agent_id,:]\n",
    "        agent_action = actions[:,agent_id,:]\n",
    "        agent_reward = rewards[:,agent_id].view(-1,1)\n",
    "        agent_done = dones[:,agent_id].view(-1,1)\n",
    "        \n",
    "        # replace action of the specific agent with actor_local output (NOISE removal)\n",
    "        actor_local_actions = actions.clone()\n",
    "        actor_local_actions[:, agent_id, :] = agent.actor_local.forward(agent_state)\n",
    "        actor_local_actions = actor_local_actions.view(BATCH_SIZE, -1)\n",
    "                \n",
    "        # flatt actions\n",
    "        actions = actions.view(BATCH_SIZE, -1)\n",
    "        \n",
    "        agent_experience = (full_states, actions, actor_local_actions, actor_target_actions,\n",
    "                            agent_state, agent_action, agent_reward, agent_done,\n",
    "                            next_states, next_full_states)\n",
    "\n",
    "        agent.learn(agent_experience, GAMMA)\n",
    "\n",
    "    def save(self, prefix=''):\n",
    "        for idx, agent in enumerate(self.agents):\n",
    "            chk_actor_filename = prefix + 'checkpoint_agent{}_actor.pth'.format(idx)\n",
    "            chk_critic_filename = prefix + 'checkpoint_critic{}_critic.pth'.format(idx)\n",
    "            torch.save(agent.actor_local.state_dict(), chk_actor_filename)\n",
    "            torch.save(agent.critic_local.state_dict(), chk_critic_filename)\n",
    "\n",
    "class ReplayBuffer(object):\n",
    "    \"\"\"Fixed-size buffer to store experience tuples.\"\"\"\n",
    "\n",
    "    def __init__(self, buffer_size, batch_size, seed):\n",
    "        \"\"\"Initialize a ReplayBuffer object.\n",
    "        Params\n",
    "        ======\n",
    "            buffer_size (int): maximum size of buffer\n",
    "            batch_size (int): size of each training batch\n",
    "        \"\"\"\n",
    "        self.memory = deque(maxlen=buffer_size)  # internal memory (deque)\n",
    "        self.batch_size = batch_size\n",
    "        self.experience = namedtuple(\"Experience\", field_names=['state', 'full_state', 'action', 'reward', 'next_state', 'next_full_state','done'])\n",
    "        self.seed = random.seed(seed)\n",
    "    \n",
    "    def add(self, state, full_state, action, reward, next_state, next_full_state, done):\n",
    "        \"\"\"Add a new experience to memory.\"\"\"\n",
    "        e = self.experience(state, full_state, action, reward, next_state, next_full_state, done)\n",
    "        self.memory.append(e)\n",
    "    \n",
    "    def sample(self):\n",
    "        \"\"\"Randomly sample a batch of experiences from memory.\"\"\"\n",
    "        experiences = random.sample(self.memory, k=self.batch_size)\n",
    "        \n",
    "        states = torch.from_numpy(np.array([e.state for e in experiences if e is not None])).float().to(device)\n",
    "        full_states = torch.from_numpy(np.array([e.full_state for e in experiences if e is not None])).float().to(device)\n",
    "        actions = torch.from_numpy(np.array([e.action for e in experiences if e is not None])).float().to(device)\n",
    "        rewards = torch.from_numpy(np.array([e.reward for e in experiences if e is not None])).float().to(device)\n",
    "        next_states = torch.from_numpy(np.array([e.next_state for e in experiences if e is not None])).float().to(device)\n",
    "        next_full_states = torch.from_numpy(np.array([e.next_full_state for e in experiences if e is not None])).float().to(device)\n",
    "        dones = torch.from_numpy(np.array([e.done for e in experiences if e is not None]).astype(np.uint8)).float().to(device)\n",
    "\n",
    "        return (states, full_states, actions, rewards, next_states, next_full_states, dones)\n",
    "\n",
    "    def __len__(self):\n",
    "        \"\"\"Return the current size of internal memory.\"\"\"\n",
    "        return len(self.memory) "
   ]
  },
  {
   "cell_type": "code",
   "execution_count": 12,
   "metadata": {
    "ExecuteTime": {
     "end_time": "2021-08-03T16:00:14.578327Z",
     "start_time": "2021-08-03T16:00:14.553528Z"
    }
   },
   "outputs": [],
   "source": [
    "maddpg = MADDPG(state_size=24, action_size=2, num_agents=2, fc1_units=NN_ACTOR_HIDDEN_1, fc2_units=NN_ACTOR_HIDDEN_2, critic_h1=NN_CRITIC_HIDDEN_1,critic_h2=NN_CRITIC_HIDDEN_2) \n"
   ]
  },
  {
   "cell_type": "code",
   "execution_count": 13,
   "metadata": {
    "ExecuteTime": {
     "end_time": "2021-08-03T16:55:13.725722Z",
     "start_time": "2021-08-03T16:00:25.153790Z"
    }
   },
   "outputs": [
    {
     "name": "stdout",
     "output_type": "stream",
     "text": [
      "0 episode\tavg score over 100 episodes 0.10000\t (max 0.10000)\n",
      "100 episode\tavg score over 100 episodes 0.01640\t (max 0.00000)\n",
      "200 episode\tavg score over 100 episodes 0.01370\t (max 0.00000)\n",
      "300 episode\tavg score over 100 episodes 0.01820\t (max 0.00000)\n",
      "400 episode\tavg score over 100 episodes 0.01850\t (max 0.00000)\n",
      "500 episode\tavg score over 100 episodes 0.00000\t (max 0.00000)\n",
      "600 episode\tavg score over 100 episodes 0.01940\t (max 0.10000)\n",
      "700 episode\tavg score over 100 episodes 0.07040\t (max 0.09000)\n",
      "800 episode\tavg score over 100 episodes 0.08650\t (max 0.10000)\n",
      "900 episode\tavg score over 100 episodes 0.10820\t (max 0.10000)\n",
      "1000 episode\tavg score over 100 episodes 0.16830\t (max 0.20000)\n",
      "1100 episode\tavg score over 100 episodes 0.31460\t (max 0.29000)\n",
      "1151 episode\tavg score over 100 episodes 0.50940\t (max 1.80000)\n",
      "Environment solved after 1151 episodes with the average score 0.5094000076502562\n",
      "\n"
     ]
    },
    {
     "data": {
      "image/png": "[encoded data removed]",
      "text/plain": [
       "<Figure size 432x288 with 1 Axes>"
      ]
     },
     "metadata": {
      "needs_background": "light"
     },
     "output_type": "display_data"
    }
   ],
   "source": [
    "scores_max_hist = []\n",
    "scores_mean_hist = []\n",
    "\n",
    "def maddpg_train(n_episodes=5000, print_eval=100):\n",
    "    \n",
    "    scores_deque = deque(maxlen=print_eval)\n",
    "    solved = False\n",
    "    \n",
    "    for i_episode in range(n_episodes):\n",
    "        env_info = env.reset(train_mode=True)[brain_name]\n",
    "        state = env_info.vector_observations\n",
    "        scores = np.zeros(num_agents)\n",
    "        maddpg.reset()\n",
    "        step = 0\n",
    "        while True:\n",
    "            step += 1\n",
    "            action = maddpg.act(state, i_episode, add_noise=True)\n",
    "            env_info = env.step(action)[brain_name]\n",
    "            \n",
    "            next_state = env_info.vector_observations\n",
    "            reward = env_info.rewards\n",
    "            done = env_info.local_done\n",
    "            \n",
    "            scores += reward\n",
    "            \n",
    "            maddpg.step(i_episode, state, action, reward, next_state, done)\n",
    "            \n",
    "            if np.any(done) or np.max(scores) > 1.79: # it is possible agent to be cheating, so we stop!\n",
    "                break\n",
    "                \n",
    "            state = next_state\n",
    "            \n",
    "        score_max = np.max(scores)\n",
    "        scores_deque.append(score_max)\n",
    "        score_mean = np.mean(scores_deque)\n",
    "        \n",
    "        scores_max_hist.append(score_max)\n",
    "        scores_mean_hist.append(score_mean)\n",
    "\n",
    "        print('\\r{} episode\\tavg score over {} episodes {:.5f}\\t (max {:.5f})'.format(i_episode, print_eval, np.mean(scores_deque), score_max), end='')\n",
    "        if solved == False and score_mean >= 0.5:\n",
    "            print('\\nEnvironment solved after {} episodes with the average score {}\\n'.format(i_episode, score_mean))\n",
    "            maddpg.save()\n",
    "            solved = True\n",
    "        \n",
    "        if i_episode % print_eval == 0:\n",
    "            print()\n",
    "\n",
    "        if i_episode % 250 == 0:\n",
    "            maddpg.save('partial_')\n",
    "\n",
    "        if np.mean(scores_deque) > 0.5:\n",
    "            break\n",
    "    \n",
    "    return solved\n",
    "\n",
    "\n",
    "solved = maddpg_train(n_episodes=2000)\n",
    "\n",
    "if not solved:\n",
    "    maddpg.save('not_solved_')\n",
    "\n",
    "# Visualization\n",
    "fig = plt.figure()\n",
    "ax = fig.add_subplot(111)\n",
    "plt.plot(np.arange(1, len(scores_max_hist)+1), scores_max_hist, label='score')\n",
    "plt.plot(np.arange(1, len(scores_mean_hist)+1), scores_mean_hist, label='average score')\n",
    "plt.ylabel('Score')\n",
    "plt.xlabel('Episode #')\n",
    "plt.legend(loc='upper left')\n",
    "plt.show()"
   ]
  },
  {
   "cell_type": "code",
   "execution_count": null,
   "metadata": {},
   "outputs": [],
   "source": [
    "#env.close()  # close the environment"
   ]
  },
  {
   "cell_type": "code",
   "execution_count": 14,
   "metadata": {
    "ExecuteTime": {
     "end_time": "2021-08-03T17:09:49.726033Z",
     "start_time": "2021-08-03T16:56:11.426895Z"
    }
   },
   "outputs": [
    {
     "name": "stdout",
     "output_type": "stream",
     "text": [
      "Total score (averaged over agents) this episode: 2.600000038743019\n",
      "Total score (averaged over agents) this episode: -0.004999999888241291\n",
      "Total score (averaged over agents) this episode: 2.600000038743019\n",
      "Total score (averaged over agents) this episode: 2.600000038743019\n",
      "Total score (averaged over agents) this episode: 2.600000038743019\n",
      "Total score (averaged over agents) this episode: 2.650000039488077\n",
      "Total score (averaged over agents) this episode: 2.600000038743019\n",
      "Total score (averaged over agents) this episode: 0.19500000309199095\n",
      "Total score (averaged over agents) this episode: 2.600000038743019\n",
      "Total score (averaged over agents) this episode: 2.600000038743019\n"
     ]
    }
   ],
   "source": [
    "agent = Agent(state_size=24, action_size=2, num_agents=2, fc1_units=NN_ACTOR_HIDDEN_1, fc2_units=NN_ACTOR_HIDDEN_2, critic_h1=NN_CRITIC_HIDDEN_1,critic_h2=NN_CRITIC_HIDDEN_2)\n",
    "\n",
    "agent.actor_local.load_state_dict(torch.load('checkpoint_agent0_actor.pth', map_location='cpu'))\n",
    "agent.critic_local.load_state_dict(torch.load('checkpoint_critic0_critic.pth', map_location='cpu'))\n",
    "\n",
    "for i in range(10):\n",
    "    env_info = env.reset(train_mode=False)[brain_name]     # reset the environment    \n",
    "    states = env_info.vector_observations                  # get the current state\n",
    "    scores = np.zeros(num_agents)                          # initialize the score\n",
    "    while True:\n",
    "        actions = agent.act(states,i, add_noise= False)\n",
    "        env_info = env.step(actions)[brain_name]\n",
    "        next_states = env_info.vector_observations\n",
    "        rewards = env_info.rewards\n",
    "        dones = env_info.local_done\n",
    "        scores += env_info.rewards\n",
    "        states = next_states\n",
    "        if np.any(dones):\n",
    "            break\n",
    "    \n",
    "    print('Total score (averaged over agents) this episode: {}'.format(np.mean(scores)))"
   ]
  },
  {
   "cell_type": "code",
   "execution_count": 15,
   "metadata": {
    "ExecuteTime": {
     "end_time": "2021-08-03T17:10:41.525942Z",
     "start_time": "2021-08-03T17:10:41.498088Z"
    }
   },
   "outputs": [],
   "source": [
    "env.close()"
   ]
  },
  {
   "cell_type": "code",
   "execution_count": null,
   "metadata": {},
   "outputs": [],
   "source": []
  },
  {
   "cell_type": "code",
   "execution_count": null,
   "metadata": {},
   "outputs": [],
   "source": []
  },
  {
   "cell_type": "code",
   "execution_count": null,
   "metadata": {},
   "outputs": [],
   "source": []
  },
  {
   "cell_type": "code",
   "execution_count": null,
   "metadata": {},
   "outputs": [],
   "source": []
  }
 ],
 "metadata": {
  "kernelspec": {
   "display_name": "drlnd",
   "language": "python",
   "name": "drlnd"
  },
  "language_info": {
   "codemirror_mode": {
    "name": "ipython",
    "version": 3
   },
   "file_extension": ".py",
   "mimetype": "text/x-python",
   "name": "python",
   "nbconvert_exporter": "python",
   "pygments_lexer": "ipython3",
   "version": "3.6.13"
  }
 },
 "nbformat": 4,
 "nbformat_minor": 2
}
